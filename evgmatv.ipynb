{
 "cells": [
  {
   "cell_type": "markdown",
   "id": "66577389",
   "metadata": {},
   "source": [
    "# <font color='red'>Ісландія</font>\n",
    "\n",
    "## Площа:\n",
    "Площа <font color='blue'>Ісландії</font> становить близько 103 000 квадратних кілометрів, що робить її <font color='green'><b>однією з найменших країн Європи</b></font> за площею.\n",
    "\n",
    "\n",
    "## Населення:\n",
    "*За даними 2021 року*, населення Ісландії становить приблизно 356 991 осіб. Багатство природних ресурсів та життя в ізольованому регіоні призвело до **невеликої кількості населення**.\n",
    "\n",
    "## Державний устрій:\n",
    "Ісландія є **парламентською республікою** з демократичним урядом. Держава має Президента, але влада переважно належить парламенту, відомому як **Альþingi**. Ісландія має традиції самоврядування і визнана своєю **політичною стабільністю**.\n",
    "\n",
    "## Видатні персоналії:\n",
    "<kbd>Видатні персоналії</kbd>\n",
    "\n",
    "| Особа                          | Види досягнень                                             |\n",
    "|--------------------------------|------------------------------------------------------------|\n",
    "| Галдор Лакснесс                | Володар Нобелівської премії з літератури                  |\n",
    "| Халльгрімур Петурссон          | Номінований на Нобелівську премію                         |\n",
    "| [Бьорк](https://uk.wikipedia.org/wiki/Б%27єрк)    | Сучасний музикант                                          |\n",
    "| Ханс Хірдальссон               | Винахідник світлодіодів (LED)   \n",
    "\n",
    "## Пам'ятки культури та природи:\n",
    "* **Природні пам'ятки**:\n",
    "  * Гейзери\n",
    "  ![Гейзер](https://upload.wikimedia.org/wikipedia/commons/thumb/6/6b/HaukadalurOverview.jpg/1024px-HaukadalurOverview.jpg)\n",
    "\n",
    "  * Водоспади:\n",
    "    * Сельяландсфосс\n",
    "    * Гулфосс\n",
    "    * Скогафосс\n",
    "  * Льодовики:\n",
    "    * Ватнайьокудль\n",
    "    * Мьордальсйьокудль\n",
    "  * Активні вулкани:\n",
    "    * Гейґісфььалл\n",
    "* **Культурні пам'ятки**:\n",
    "  * Національний епос \"Едда\"\n",
    "  * Вікінгські саги\n"
   ]
  },
  {
   "cell_type": "code",
   "execution_count": 6,
   "id": "4ca46dee",
   "metadata": {},
   "outputs": [
    {
     "data": {
      "text/html": [
       "<svg xmlns=\"http://www.w3.org/2000/svg\" width=\"300\" height=\"200\">\n",
       "  <!-- Синя площа (фон) -->\n",
       "  <rect width=\"300\" height=\"200\" fill=\"#005CBF\" />\n",
       "\n",
       "  <!-- Білий хрест (горизонтальна смуга) -->\n",
       "  <rect x=\"0\" y=\"75\" width=\"300\" height=\"50\" fill=\"#ffffff\" />\n",
       "\n",
       "  <!-- Білий хрест (вертикальна смуга) -->\n",
       "  <rect x=\"125\" y=\"0\" width=\"50\" height=\"200\" fill=\"#ffffff\" />\n",
       "\n",
       "  <!-- Червоний хрест (горизонтальна смуга) -->\n",
       "  <rect x=\"0\" y=\"85\" width=\"300\" height=\"30\" fill=\"#FF0000\" />\n",
       "\n",
       "  <!-- Червоний хрест (вертикальна смуга) -->\n",
       "  <rect x=\"135\" y=\"0\" width=\"30\" height=\"200\" fill=\"#FF0000\" />\n",
       "</svg>\n",
       "\n"
      ],
      "text/plain": [
       "<IPython.core.display.HTML object>"
      ]
     },
     "metadata": {},
     "output_type": "display_data"
    }
   ],
   "source": [
    "%%HTML\n",
    "<svg xmlns=\"http://www.w3.org/2000/svg\" width=\"300\" height=\"200\">\n",
    "  <!-- Синя площа (фон) -->\n",
    "  <rect width=\"300\" height=\"200\" fill=\"#005CBF\" />\n",
    "\n",
    "  <!-- Білий хрест (горизонтальна смуга) -->\n",
    "  <rect x=\"0\" y=\"75\" width=\"300\" height=\"50\" fill=\"#ffffff\" />\n",
    "\n",
    "  <!-- Білий хрест (вертикальна смуга) -->\n",
    "  <rect x=\"125\" y=\"0\" width=\"50\" height=\"200\" fill=\"#ffffff\" />\n",
    "\n",
    "  <!-- Червоний хрест (горизонтальна смуга) -->\n",
    "  <rect x=\"0\" y=\"85\" width=\"300\" height=\"30\" fill=\"#FF0000\" />\n",
    "\n",
    "  <!-- Червоний хрест (вертикальна смуга) -->\n",
    "  <rect x=\"135\" y=\"0\" width=\"30\" height=\"200\" fill=\"#FF0000\" />\n",
    "</svg>\n",
    "\n"
   ]
  },
  {
   "cell_type": "code",
   "execution_count": 9,
   "id": "0bb4d799",
   "metadata": {},
   "outputs": [
    {
     "name": "stdout",
     "output_type": "stream",
     "text": [
      "Введіть десяткове число: 56\n",
      "Десяткове число 56 у двійковій системі: 111000\n"
     ]
    }
   ],
   "source": [
    "def decimal_to_binary(decimal_number):\n",
    "    if decimal_number == 0:\n",
    "        return \"0\"\n",
    "\n",
    "    binary_result = \"\"\n",
    "    while decimal_number > 0:\n",
    "        remainder = decimal_number % 2\n",
    "        binary_result = str(remainder) + binary_result\n",
    "        decimal_number = decimal_number // 2\n",
    "\n",
    "    return binary_result\n",
    "\n",
    "# Запитайте користувача про десяткове число\n",
    "decimal_number = int(input(\"Введіть десяткове число: \"))\n",
    "\n",
    "binary_representation = decimal_to_binary(decimal_number)\n",
    "print(f\"Десяткове число {decimal_number} у двійковій системі: {binary_representation}\")\n"
   ]
  },
  {
   "cell_type": "code",
   "execution_count": null,
   "id": "0fe7b493",
   "metadata": {},
   "outputs": [],
   "source": []
  }
 ],
 "metadata": {
  "kernelspec": {
   "display_name": "Python 3 (ipykernel)",
   "language": "python",
   "name": "python3"
  },
  "language_info": {
   "codemirror_mode": {
    "name": "ipython",
    "version": 3
   },
   "file_extension": ".py",
   "mimetype": "text/x-python",
   "name": "python",
   "nbconvert_exporter": "python",
   "pygments_lexer": "ipython3",
   "version": "3.7.16"
  }
 },
 "nbformat": 4,
 "nbformat_minor": 5
}
